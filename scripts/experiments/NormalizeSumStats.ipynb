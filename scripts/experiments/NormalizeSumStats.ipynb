{
 "cells": [
  {
   "cell_type": "code",
   "execution_count": 1,
   "metadata": {},
   "outputs": [],
   "source": [
    "import json\n",
    "import numpy as np\n",
    "\n",
    "from ast import literal_eval"
   ]
  },
  {
   "cell_type": "code",
   "execution_count": 2,
   "metadata": {},
   "outputs": [],
   "source": [
    "BURN_IN = 20"
   ]
  },
  {
   "cell_type": "code",
   "execution_count": 3,
   "metadata": {},
   "outputs": [],
   "source": [
    "with open('data.json', 'r') as f:\n",
    "    raw_data = {literal_eval(k): v for k, v in json.load(f).items()}\n",
    "    \n",
    "for key in raw_data.keys():\n",
    "    solver, params = key\n",
    "    timeseries = raw_data[key][1]\n",
    "            \n",
    "    if solver == 'CBM':\n",
    "        for species in ['P', 'RNA']:\n",
    "            timeseries[species] = np.array(timeseries[species + 'nuc']) + np.array(timeseries[species + 'cyt'])\n",
    "            del timeseries[species + 'nuc']\n",
    "            del timeseries[species + 'cyt']\n",
    "    \n",
    "    del timeseries['Gf']\n",
    "    del timeseries['Gb']\n",
    "    \n",
    "    for species in timeseries:\n",
    "        timeseries[species] = np.array(timeseries[species])[:, BURN_IN:]"
   ]
  },
  {
   "cell_type": "markdown",
   "metadata": {},
   "source": [
    "summary_statistics_raw = {\n",
    "        'mean': lambda x: np.mean(np.mean(x, axis=-1), axis=-1),\n",
    "        'std': lambda x: np.mean(np.std(x, axis=-1), axis=-1),\n",
    "        'min': lambda x: np.mean(np.min(x, axis=-1), axis=-1),\n",
    "        'max': lambda x: np.mean(np.max(x, axis=-1), axis=-1),\n",
    "        }\n",
    "\n",
    "stat_mean = {k + species: np.mean([s(v[1][species]) for v in raw_data.values()])\n",
    "            for k, s in summary_statistics_raw.items()\n",
    "            for species in ['P', 'RNA']}\n",
    "\n",
    "stat_std = {k + species: np.std([s(v[1][species]) for v in raw_data.values()])\n",
    "            for k, s in summary_statistics_raw.items()\n",
    "            for species in ['P', 'RNA']}\n",
    "\n",
    "print(stat_mean)\n",
    "print(stat_std)"
   ]
  },
  {
   "cell_type": "code",
   "execution_count": 4,
   "metadata": {},
   "outputs": [],
   "source": [
    "import tsfresh.feature_extraction.feature_calculators as tsfe\n",
    "summary_statistics_raw = {\n",
    "        'longest_strike_below_mean': lambda x: np.apply_along_axis(tsfe.longest_strike_below_mean, 0, x).mean(),\n",
    "        'longest_strike_above_mean': lambda x: np.apply_along_axis(tsfe.longest_strike_above_mean, 0, x).mean(),\n",
    "        'mean_abs_change': lambda x: np.apply_along_axis(tsfe.mean_abs_change, 0, x).mean(),\n",
    "        'maximum': lambda x: np.apply_along_axis(tsfe.maximum, 0, x).mean(),\n",
    "        'minimum': lambda x: np.apply_along_axis(tsfe.minimum, 0, x).mean(),\n",
    "        'variance': lambda x: np.apply_along_axis(tsfe.variance, 0, x).mean(),\n",
    "        }\n",
    "\n",
    "stat_mean = {k + species: np.mean([s(v[1][species]) for v in raw_data.values()])\n",
    "            for k, s in summary_statistics_raw.items()\n",
    "            for species in ['P', 'RNA']}\n",
    "\n",
    "stat_std = {k + species: np.std([s(v[1][species]) for v in raw_data.values()])\n",
    "            for k, s in summary_statistics_raw.items()\n",
    "            for species in ['P', 'RNA']}"
   ]
  },
  {
   "cell_type": "code",
   "execution_count": 5,
   "metadata": {},
   "outputs": [
    {
     "name": "stdout",
     "output_type": "stream",
     "text": [
      "stat_mean = {'longest_strike_below_meanP': 5.2377011138613865, 'longest_strike_below_meanRNA': 4.793258818069307, 'longest_strike_above_meanP': 5.651931208745875, 'longest_strike_above_meanRNA': 6.038321214933994, 'mean_abs_changeP': 297.93370793552566, 'mean_abs_changeRNA': 17.48370513204594, 'maximumP': 1531.3910891089108, 'maximumRNA': 91.14778645833333, 'minimumP': 411.66921281971946, 'minimumRNA': 24.466506806930692, 'varianceP': 108241.7390247367, 'varianceRNA': 297.064633632257}\n",
      "stat_std = {'longest_strike_below_meanP': 2.4667828386324206, 'longest_strike_below_meanRNA': 0.7026448914120297, 'longest_strike_above_meanP': 1.399528430327171, 'longest_strike_above_meanRNA': 1.0580060990298705, 'mean_abs_changeP': 212.0608104949187, 'mean_abs_changeRNA': 7.600031842541941, 'maximumP': 722.3805712604964, 'maximumRNA': 4.232712083773925, 'minimumP': 419.6285935725412, 'minimumRNA': 20.689287835317344, 'varianceP': 132810.87225382286, 'varianceRNA': 253.89911336323922}\n"
     ]
    }
   ],
   "source": [
    "print(\"stat_mean =\",stat_mean)\n",
    "print(\"stat_std =\", stat_std)"
   ]
  }
 ],
 "metadata": {
  "kernelspec": {
   "display_name": "Python 3",
   "language": "python",
   "name": "python3"
  },
  "language_info": {
   "codemirror_mode": {
    "name": "ipython",
    "version": 3
   },
   "file_extension": ".py",
   "mimetype": "text/x-python",
   "name": "python",
   "nbconvert_exporter": "python",
   "pygments_lexer": "ipython3",
   "version": "3.8.5"
  }
 },
 "nbformat": 4,
 "nbformat_minor": 4
}
